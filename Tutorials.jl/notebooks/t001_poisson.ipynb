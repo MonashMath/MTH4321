{
 "cells": [
  {
   "cell_type": "markdown",
   "source": [
    "# Tutorial 1: Poisson equation"
   ],
   "metadata": {}
  },
  {
   "cell_type": "markdown",
   "source": [
    "We are going to use an advanced finite element code to observe how spectral\n",
    "Galerkin and finite element methods work in practise. Due to the limited time we\n",
    "have in this course, I have decided to use the software implementation in `Gridap`,\n",
    "which I co-develop. This software is written in `Julia`. If you do not know about `Julia`,\n",
    "no worries. You won't need much for following the tutorials.\n",
    "\n",
    "The code we will use is Gridap, which we load as follows."
   ],
   "metadata": {}
  },
  {
   "outputs": [],
   "cell_type": "code",
   "source": [
    "using Gridap"
   ],
   "metadata": {},
   "execution_count": null
  },
  {
   "cell_type": "markdown",
   "source": [
    "We will also use Plots for plotting results."
   ],
   "metadata": {}
  },
  {
   "outputs": [],
   "cell_type": "code",
   "source": [
    "using Plots"
   ],
   "metadata": {},
   "execution_count": null
  },
  {
   "cell_type": "markdown",
   "source": [
    "Now, we start defining our problem and its approximation.\n",
    "The corners of the box, in 1D, end-points, of the mesh define the domain.\n",
    "We consider $\\Omega \\doteq [0.0,1.0]$."
   ],
   "metadata": {}
  },
  {
   "outputs": [],
   "cell_type": "code",
   "source": [
    "domain = (0.0,1.0)"
   ],
   "metadata": {},
   "execution_count": null
  },
  {
   "cell_type": "markdown",
   "source": [
    "Now, we the number of cells in our mesh. We define a 1D partition."
   ],
   "metadata": {}
  },
  {
   "outputs": [],
   "cell_type": "code",
   "source": [
    "N = 8\n",
    "partition = (N,)"
   ],
   "metadata": {},
   "execution_count": null
  },
  {
   "cell_type": "markdown",
   "source": [
    "The next function creates a structured uniform mesh of n-cubes in dimension n.\n",
    "In 1D, it is just the mesh of [0,1] with N segments."
   ],
   "metadata": {}
  },
  {
   "outputs": [],
   "cell_type": "code",
   "source": [
    "model = CartesianDiscreteModel(domain,partition)"
   ],
   "metadata": {},
   "execution_count": null
  },
  {
   "cell_type": "markdown",
   "source": [
    "The model includes geometrical information. We can extract a\n",
    "triangulation (mesh) out of it."
   ],
   "metadata": {}
  },
  {
   "outputs": [],
   "cell_type": "code",
   "source": [
    "trian = get_triangulation(model)"
   ],
   "metadata": {},
   "execution_count": null
  },
  {
   "cell_type": "markdown",
   "source": [
    "Now, we can pick the order of the finite element space"
   ],
   "metadata": {}
  },
  {
   "outputs": [],
   "cell_type": "code",
   "source": [
    "order = 3"
   ],
   "metadata": {},
   "execution_count": null
  },
  {
   "cell_type": "markdown",
   "source": [
    "Here we choose the degree of the quadrature and compute it."
   ],
   "metadata": {}
  },
  {
   "outputs": [],
   "cell_type": "code",
   "source": [
    "degree = (order-1)*2\n",
    "quad = CellQuadrature(trian,degree)"
   ],
   "metadata": {},
   "execution_count": null
  },
  {
   "cell_type": "markdown",
   "source": [
    "Let us consider a problem with analytical solution in strong sense.\n",
    "$x$ is a point in the space. In 1D, do not forget to take its 1st component, `x[1]`."
   ],
   "metadata": {}
  },
  {
   "outputs": [],
   "cell_type": "code",
   "source": [
    "u(x) = x[1]^2 - 2x[1] + 1"
   ],
   "metadata": {},
   "execution_count": null
  },
  {
   "cell_type": "markdown",
   "source": [
    "We want $u(x)$ to be solution of the Poisson problem. Thus, the forcing term must\n",
    "be (for the Poisson equation):"
   ],
   "metadata": {}
  },
  {
   "outputs": [],
   "cell_type": "code",
   "source": [
    "f(x) = - Δ(u)(x)"
   ],
   "metadata": {},
   "execution_count": null
  },
  {
   "cell_type": "markdown",
   "source": [
    "Now we create a finite element space for all the information above.\n",
    "`boundary` means that we consider Dirichlet data on the whole boundary, i.e.,\n",
    "end-points 0 and 1 and `Float64` means that our unknowns is scalar."
   ],
   "metadata": {}
  },
  {
   "outputs": [],
   "cell_type": "code",
   "source": [
    "V = TestFESpace(\n",
    "   model=model,\n",
    "   order=order,\n",
    "   reffe=:Lagrangian,\n",
    "   valuetype=Float64,\n",
    "   dirichlet_tags=\"boundary\")"
   ],
   "metadata": {},
   "execution_count": null
  },
  {
   "cell_type": "markdown",
   "source": [
    "The trial space is an affine space with boundary conditions. The next\n",
    "method evaluates u at the end-points and consider these values as Dirichlet values."
   ],
   "metadata": {}
  },
  {
   "outputs": [],
   "cell_type": "code",
   "source": [
    "U = TrialFESpace(V,u)"
   ],
   "metadata": {},
   "execution_count": null
  },
  {
   "cell_type": "markdown",
   "source": [
    "Now the (bi)linear form. For the Poisson equation we have reads:"
   ],
   "metadata": {}
  },
  {
   "outputs": [],
   "cell_type": "code",
   "source": [
    "a(u,v) = inner(∇(u),∇(v))\n",
    "l(v) = inner(v,f)"
   ],
   "metadata": {},
   "execution_count": null
  },
  {
   "cell_type": "markdown",
   "source": [
    "Now, we link the (bi)linear forms, the triangulation in which they are\n",
    "integrated, and the numerical quadrature rule for this integration"
   ],
   "metadata": {}
  },
  {
   "outputs": [],
   "cell_type": "code",
   "source": [
    "t_Ω = AffineFETerm(a,l,trian,quad)"
   ],
   "metadata": {},
   "execution_count": null
  },
  {
   "cell_type": "markdown",
   "source": [
    "With these terms, we can now create our operator.\n",
    "E.g., F(x) = Ax-b, where A is our matrix and b the right-hand side,\n",
    "thus affine. It takes the term and the trial/test finite element spaces."
   ],
   "metadata": {}
  },
  {
   "outputs": [],
   "cell_type": "code",
   "source": [
    "op = AffineFEOperator(U,V,t_Ω)"
   ],
   "metadata": {},
   "execution_count": null
  },
  {
   "cell_type": "markdown",
   "source": [
    "Now, we solve the linear system and get the finite element solution."
   ],
   "metadata": {}
  },
  {
   "outputs": [],
   "cell_type": "code",
   "source": [
    "uh = solve(op)"
   ],
   "metadata": {},
   "execution_count": null
  },
  {
   "cell_type": "markdown",
   "source": [
    "Now, let us check the error. We define the h1 semi-norm (squared)"
   ],
   "metadata": {}
  },
  {
   "outputs": [],
   "cell_type": "code",
   "source": [
    "l2(w) = inner(w,w)\n",
    "sh1(w) = a(w,w)\n",
    "h1(w) = sh1(w) + l2(w)"
   ],
   "metadata": {},
   "execution_count": null
  },
  {
   "cell_type": "markdown",
   "source": [
    "The error function is"
   ],
   "metadata": {}
  },
  {
   "outputs": [],
   "cell_type": "code",
   "source": [
    "e = u - uh"
   ],
   "metadata": {},
   "execution_count": null
  },
  {
   "cell_type": "markdown",
   "source": [
    "Now we integrate the value of the square of the norm at each cell and\n",
    "add together for all cells and take the squared root. We can compute the\n",
    "$L^2(\\Omega)$ norm."
   ],
   "metadata": {}
  },
  {
   "outputs": [],
   "cell_type": "code",
   "source": [
    "el2 = sqrt(sum( integrate(l2(e),trian,quad) ))"
   ],
   "metadata": {},
   "execution_count": null
  },
  {
   "cell_type": "markdown",
   "source": [
    "We can also compute the $H^1(\\Omega)$."
   ],
   "metadata": {}
  },
  {
   "outputs": [],
   "cell_type": "code",
   "source": [
    "eh1 = sqrt(sum( integrate(h1(e),trian,quad) ))"
   ],
   "metadata": {},
   "execution_count": null
  },
  {
   "cell_type": "markdown",
   "source": [
    "---\n",
    "\n",
    "*This notebook was generated using [Literate.jl](https://github.com/fredrikekre/Literate.jl).*"
   ],
   "metadata": {}
  }
 ],
 "nbformat_minor": 3,
 "metadata": {
  "language_info": {
   "file_extension": ".jl",
   "mimetype": "application/julia",
   "name": "julia",
   "version": "1.4.0"
  },
  "kernelspec": {
   "name": "julia-1.4",
   "display_name": "Julia 1.4.0",
   "language": "julia"
  }
 },
 "nbformat": 4
}
