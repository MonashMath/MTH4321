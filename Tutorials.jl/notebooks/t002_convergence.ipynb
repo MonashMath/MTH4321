{
 "cells": [
  {
   "cell_type": "markdown",
   "source": [
    "# Tutorial 2: Convergence tests"
   ],
   "metadata": {}
  },
  {
   "cell_type": "markdown",
   "source": [
    "Let us create a function that given a number of cells N, the finite element order p and\n",
    "the analytical solution, computes the approximated finite element solution. It is pretty\n",
    "much the Poisson driver.\n",
    "\n",
    "I just make a comment about the fact that the computation of the error requires a more\n",
    "accurate quadrature than for the finite element part. Otherwise, we would make an error in\n",
    "the computation of the error that would polute the convergence orders."
   ],
   "metadata": {}
  },
  {
   "outputs": [],
   "cell_type": "code",
   "source": [
    "using Gridap\n",
    "using Plots\n",
    "using Test\n",
    "\n",
    "function compute_solution(N,order,u)\n",
    "\n",
    "  f(x) = - Δ(u)(x)\n",
    "\n",
    "  domain = (0,1)\n",
    "  partition = (N,)\n",
    "  model = CartesianDiscreteModel(domain,partition)\n",
    "  trian = get_triangulation(model)\n",
    "\n",
    "  degree = (order-1)*2\n",
    "  quad = CellQuadrature(trian,degree)\n",
    "\n",
    "  V = TestFESpace(\n",
    "  model=model,\n",
    "  order=order,\n",
    "  reffe=:Lagrangian,\n",
    "  valuetype=Float64,\n",
    "  dirichlet_tags=\"boundary\")\n",
    "  U = TrialFESpace(V,u)\n",
    "\n",
    "  a(u,v) = inner(∇(u),∇(v))\n",
    "  l(v) = inner(v,f)\n",
    "\n",
    "  t_Ω = AffineFETerm(a,l,trian,quad)\n",
    "\n",
    "  op = AffineFEOperator(U,V,t_Ω)\n",
    "\n",
    "  uh = solve(op)\n",
    "\n",
    "  sh1(w) = a(w,w)\n",
    "  h1(w) = sh1(w)\n",
    "\n",
    "  e = u - uh\n",
    "\n",
    "  super_quad = CellQuadrature(trian,degree*4)\n",
    "  eh1 = sqrt(sum( integrate(h1(e),trian,super_quad) ))\n",
    "\n",
    "  return uh, eh1\n",
    "end #function"
   ],
   "metadata": {},
   "execution_count": null
  },
  {
   "cell_type": "markdown",
   "source": [
    "Now, let us create another function that performs h and p-refinement.\n",
    "It includes an external loop in which we increase the order and an internal\n",
    "loop in which, for every order, runs the problem for different cell numbers.\n",
    "We must provide the set of orders and number of cells we want to explore\n",
    "in `ps` and `ncells` and the analytical solution we want for our problem.\n",
    "It returns three arrays of arrays, that include for every order the values\n",
    "for every number of cells for the following quantities: error in H1 seminorm,\n",
    "number of dofs and the finite element solution."
   ],
   "metadata": {}
  },
  {
   "outputs": [],
   "cell_type": "code",
   "source": [
    "function hp_refinement(u,ps,ncells)\n",
    "\n",
    "  eh1s_hp = []\n",
    "  ndofs_hp = []\n",
    "  uhs_hp = []\n",
    "\n",
    "  for p in ps\n",
    "\n",
    "    eh1s_h = Float64[]\n",
    "    ndofs_h = Float64[]\n",
    "    uhs_h = []\n",
    "\n",
    "    for N in ncells\n",
    "\n",
    "      uh, eh1 = compute_solution(N,p,u)\n",
    "      push!(uhs_h,uh)\n",
    "      push!(eh1s_h,eh1)\n",
    "\n",
    "      ndof = Float64(N*p)\n",
    "      push!(ndofs_h,ndof)\n",
    "\n",
    "    end\n",
    "\n",
    "    push!(eh1s_hp,eh1s_h)\n",
    "    push!(ndofs_hp,ndofs_h)\n",
    "    push!(uhs_hp,uhs_h)\n",
    "\n",
    "  end\n",
    "\n",
    "  return eh1s_hp, ndof_hp, uhs_hp\n",
    "\n",
    "end"
   ],
   "metadata": {},
   "execution_count": null
  },
  {
   "cell_type": "markdown",
   "source": [
    "## Test 1\n",
    "\n",
    "**Objective:** Check the error for linear finite elements with h-refinement.\n",
    "\n",
    "**Description:** In the test, we want to show the error in terms of number of DOFs\n",
    "using a log-log plot. We consider a family of meshes with\n",
    "4, 8, 16, 32 cells in the domain $(0,1)$. We consider a very smooth\n",
    "analytical solution $u(x) = sin(2 \\pi x)$.\n",
    "\n",
    "We compute the slope of the log-log plot using a linear regresion.\n",
    "\n",
    "**Exercise:** Consider different orders, e.g., $p=1,2,3,4,5$. What do you\n",
    "think about the numerical slope? Is it what we should expect from theory?"
   ],
   "metadata": {}
  },
  {
   "outputs": [],
   "cell_type": "code",
   "source": [
    "u(x) = sin(2*π*x[1])\n",
    "ps = 1:5\n",
    "ncells = [ 2^i for i in 2:5 ]\n",
    "\n",
    "eh1, ndofs, uhs = hp_refinement(u,ps,ncells)\n",
    "\n",
    "plot(ndofs,eh1,\n",
    "     xaxis=:log, yaxis=:log,\n",
    "     label=[\"H1_error\"],\n",
    "     shape=:auto,\n",
    "     xlabel=\"DOFS\",ylabel=\"error norm\")"
   ],
   "metadata": {},
   "execution_count": null
  },
  {
   "cell_type": "markdown",
   "source": [
    "Let us compute the slope for all these orders.\n",
    "`funx` and `funy` determines the function we want to apply for the\n",
    "$x$ and $y$ axis, e.g., log10, or identity."
   ],
   "metadata": {}
  },
  {
   "outputs": [],
   "cell_type": "code",
   "source": [
    "function compute_slope(ndofs,error,funx,funy)\n",
    "  slope = Float64[]\n",
    "  for i in 1:length(ndofs)\n",
    "    x = funx.(ndofs[i])\n",
    "    y = funy.(error[i])\n",
    "    linreg = hcat(fill!(similar(x), 1), x) \\ y\n",
    "    push!(slope,linreg[2])\n",
    "  end\n",
    "  return slope\n",
    "end"
   ],
   "metadata": {},
   "execution_count": null
  },
  {
   "outputs": [],
   "cell_type": "code",
   "source": [
    "slope = compute_slope(ndofs,eh1,log10,log10)"
   ],
   "metadata": {},
   "execution_count": null
  },
  {
   "cell_type": "markdown",
   "source": [
    "**Answer:** For first order, we observe superconvergence, better convergence\n",
    "than stated by theory. For higher orders, the computed order\n",
    "of convergence is as stated by the theory.\n",
    "\n",
    "Bounds can always be better than expected, known as\n",
    "superconvergence. Some times, we can prove mathematically why it\n",
    "happens for a particular mesh and discretisation method."
   ],
   "metadata": {}
  },
  {
   "cell_type": "markdown",
   "source": [
    "## Test 2\n",
    "\n",
    "**Objective:** Check the error for linear finite elements with h-refinement.\n",
    "\n",
    "**Description:** In the test, we want to show the error in terms of number of DOFs\n",
    "using a log-log plot. We consider a family of meshes with\n",
    "3, 6, 12, 24 cells in the domain $(0,1)$. The different with respect\n",
    "to the previous test is the analytical solution we want. We have defined\n",
    "the function as a piecewise function in $C^1([0,1])$ but not in\n",
    "$C^2([0,1])$. The function is not in $H^2((0,1))$.\n",
    "\n",
    "We compute the slope of the log-log plot using a linear regresion.\n",
    "\n",
    "**Exercise 1:** Consider different orders, e.g., $p=1,2,3,4,5$. What do you\n",
    "think about the numerical slope? Is it what we should expect from theory?\n",
    "\n",
    "**Exercise 2:** Run the same code for meshes with 2, 4, 8, 16 cells.\n",
    "What happens with the error? How can you explain it?"
   ],
   "metadata": {}
  },
  {
   "outputs": [],
   "cell_type": "code",
   "source": [
    "u(x) = x[1] > 0.5 ? 1+2*(x[1]-0.5)-8*(x[1]-0.5)^2 : 2*x[1]\n",
    "ps = 1:7\n",
    "ncells = [3^i for i in 3:7]\n",
    "\n",
    "eh1, ndofs, uhs = hp_refinement(u,ps,ncells)\n",
    "\n",
    "plot(ndofs,eh1,\n",
    "     xaxis=:log, yaxis=:log,\n",
    "     label=1:length(ndofs),\n",
    "     shape=:auto,\n",
    "     xlabel=\"DOFS\",ylabel=\"error norm\")"
   ],
   "metadata": {},
   "execution_count": null
  },
  {
   "outputs": [],
   "cell_type": "code",
   "source": [
    "slope = compute_slope(ndofs,eh1,log10,log10)"
   ],
   "metadata": {},
   "execution_count": null
  },
  {
   "cell_type": "markdown",
   "source": [
    "**Answer 1:** The results are as we expect from theory because the solution\n",
    "is only in $H^1((0,1))$. Higher order methods cannot exploit any\n",
    "smoothness. So, we cannot improve the slope, as predicted by the theory.\n",
    "\n",
    "**Answer 2:** For this particular choice of the mesh, there is a point right\n",
    "where the piecewise function changes. We can check that the exact\n",
    "solution is in the finite element space. Thus, it is easy to check from\n",
    "theory that with the Galerkin method we recover the exact solution (up to\n",
    "errors related to linear solver, etc). Take a look at Cea's lemma,\n",
    "the error is zero (for exact algebra)."
   ],
   "metadata": {}
  },
  {
   "cell_type": "markdown",
   "source": [
    "## Test 3\n",
    "\n",
    "**Objective:** Check the error for high order finite elements with\n",
    "p-refinement.\n",
    "\n",
    "**Description:** We consider the same problem as above for a mesh with 9 cells, and\n",
    "compute the error for orders 1, 2, 3, 4. Since we fix the mesh and\n",
    "increase the order, it is a p-refinement.\n",
    "\n",
    "**Exercise:** What happens with the error?"
   ],
   "metadata": {}
  },
  {
   "outputs": [],
   "cell_type": "code",
   "source": [
    "u(x) = x[1] > 0.5 ? 1+2*(x[1]-0.5)-8*(x[1]-0.5)^2 : 2*x[1]\n",
    "ps = 1:5\n",
    "ncells = 9\n",
    "\n",
    "function p_refinement(u,ps,ncells)\n",
    "  eh1, ndofs, uhs = hp_refinement(u,ps,[ncells])\n",
    "  eh1 = [eh1[i][1] for i in 1:length(eh1)]\n",
    "  ndofs = [ndofs[i][1] for i in 1:length(ndofs)]\n",
    "  uhs = [uhs[i][1] for i in 1:length(uhs)]\n",
    "  return eh1, ndofs, uhs\n",
    "end\n",
    "\n",
    "eh1, ndofs, uhs = p_refinement(u,ps,ncells)\n",
    "\n",
    "\n",
    "plot(ndofs,eh1,\n",
    "     xaxis=:identity, yaxis=:log,\n",
    "     label=1:length(ndofs),\n",
    "     shape=:auto,\n",
    "     xlabel=\"DOFS\",ylabel=\"error norm\")"
   ],
   "metadata": {},
   "execution_count": null
  },
  {
   "outputs": [],
   "cell_type": "code",
   "source": [
    "slope = compute_slope([ndofs],[eh1],identity,log10)"
   ],
   "metadata": {},
   "execution_count": null
  },
  {
   "cell_type": "markdown",
   "source": [
    "**Answer:** Since we cannot exploit smoothness, we do not improve the solution\n",
    "increasing the order. We cannot see convergence!"
   ],
   "metadata": {}
  },
  {
   "cell_type": "markdown",
   "source": [
    "## Test 4\n",
    "\n",
    "**Objective:** Check the error for high order finite elements with\n",
    "p-refinement for a smooth solution.\n",
    "\n",
    "**Description:** We consider the same problem as above for a mesh with 9 cells, and\n",
    "compute the error for orders 1, 2, 3, 4. Since we fix the mesh and\n",
    "increase the order, it is a p-refinement. The difference is that now the\n",
    "solution is very smooth $u(x) = \\sin (2\\pi x)$.\n",
    "\n",
    "**Exercise:** What happens with the error?"
   ],
   "metadata": {}
  },
  {
   "outputs": [],
   "cell_type": "code",
   "source": [
    "u(x) = sin(2*π*x[1])\n",
    "ps = 1:9\n",
    "ncells = 4\n",
    "\n",
    "eh1, ndofs, uhs = p_refinement(u,ps,ncells)\n",
    "\n",
    "plot(ndofs,eh1,\n",
    "     xaxis=:identity, yaxis=:log,\n",
    "     label=1:length(ndofs),\n",
    "     shape=:auto,\n",
    "     xlabel=\"DOFS\",ylabel=\"error norm\")"
   ],
   "metadata": {},
   "execution_count": null
  },
  {
   "outputs": [],
   "cell_type": "code",
   "source": [
    "slope = compute_slope([ndofs],[eh1],identity,log10)"
   ],
   "metadata": {},
   "execution_count": null
  },
  {
   "cell_type": "markdown",
   "source": [
    "**Answer:** p-refinement is an excellent choice, we have exponential\n",
    "convergence! For smooth solutions, p-refinement is more cost effective\n",
    "than h-refinement, exponential vs. algebraic convergence."
   ],
   "metadata": {}
  },
  {
   "cell_type": "markdown",
   "source": [
    "## Test 5\n",
    "\n",
    "**Objective:** Check the error for high order finite elements with\n",
    "h and p-refinement for a very oscillatory solution.\n",
    "\n",
    "**Description:** We consider the same setting as in the previous test.\n",
    "The difference is that now the\n",
    "solution is very oscillatory $u(x) = \\sin (64 \\pi x)$.\n",
    "\n",
    "**Exercise:** What happens with the error?"
   ],
   "metadata": {}
  },
  {
   "outputs": [],
   "cell_type": "code",
   "source": [
    "u(x) = sin(64*π*x[1])\n",
    "ps = 2:5\n",
    "ncells = [2^i for i in 3:10]\n",
    "\n",
    "eh1, ndofs, uhs = hp_refinement(u,ps,ncells)\n",
    "\n",
    "plot(ndofs,eh1,\n",
    "     xaxis=:log, yaxis=:log,\n",
    "     label=1:length(ndofs),\n",
    "     shape=:auto,\n",
    "     xlabel=\"DOFS\",ylabel=\"error norm\")"
   ],
   "metadata": {},
   "execution_count": null
  },
  {
   "outputs": [],
   "cell_type": "code",
   "source": [
    "slope = compute_slope(ndofs,eh1,log10,log10)"
   ],
   "metadata": {},
   "execution_count": null
  },
  {
   "cell_type": "markdown",
   "source": [
    "**Answer:** What we observe is the so-called pre-asymptotic behaviour. The\n",
    "solution is so bad approximated for the coarsest meshes that we cannot\n",
    "see the expected convergence. Once we have a mesh that can capture\n",
    "the oscillations, we recover the expected convergence. Don't care about\n",
    "the first points in a convergence analysis, they can behave in an\n",
    "erratic way."
   ],
   "metadata": {}
  },
  {
   "cell_type": "markdown",
   "source": [
    "---\n",
    "\n",
    "*This notebook was generated using [Literate.jl](https://github.com/fredrikekre/Literate.jl).*"
   ],
   "metadata": {}
  }
 ],
 "nbformat_minor": 3,
 "metadata": {
  "language_info": {
   "file_extension": ".jl",
   "mimetype": "application/julia",
   "name": "julia",
   "version": "1.4.0"
  },
  "kernelspec": {
   "name": "julia-1.4",
   "display_name": "Julia 1.4.0",
   "language": "julia"
  }
 },
 "nbformat": 4
}
